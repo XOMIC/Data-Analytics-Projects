{
 "cells": [
  {
   "cell_type": "code",
   "execution_count": 1,
   "id": "b953e47f",
   "metadata": {},
   "outputs": [],
   "source": [
    "import pandas as pd\n",
    "import numpy as np\n",
    "import matplotlib.pyplot as plt\n",
    "%matplotlib inline"
   ]
  },
  {
   "cell_type": "code",
   "execution_count": null,
   "id": "5009e706",
   "metadata": {},
   "outputs": [],
   "source": []
  },
  {
   "cell_type": "markdown",
   "id": "f28cd796",
   "metadata": {},
   "source": [
    "# Project Details\n",
    "## In this file tasks are:\n",
    "- Find top selling Publishers of all time\n",
    "- Find out what games are they mostly selling"
   ]
  },
  {
   "cell_type": "markdown",
   "id": "08f73242",
   "metadata": {},
   "source": [
    "# 1. Find top selling Publishers of all time"
   ]
  },
  {
   "cell_type": "code",
   "execution_count": 2,
   "id": "9fa54861",
   "metadata": {},
   "outputs": [],
   "source": [
    "# import data\n",
    "games = pd.read_csv('vgsales_cleared.csv', index_col='Name')\n",
    "# making copy on which will be working moving forward\n",
    "games_copy = games.copy()"
   ]
  },
  {
   "cell_type": "code",
   "execution_count": 3,
   "id": "f8ccbeb9",
   "metadata": {},
   "outputs": [],
   "source": [
    "# finding top selling developers based on Global Sales\n",
    "top_developers = games_copy.pivot_table(index='Publisher', values='Global_Sales', aggfunc='sum').sort_values(by='Global_Sales', ascending=False)\n",
    "top10_developers = top_developers.head(10)"
   ]
  },
  {
   "cell_type": "code",
   "execution_count": 4,
   "id": "fc80df60",
   "metadata": {},
   "outputs": [
    {
     "data": {
      "text/plain": [
       "Text(0, 0.5, 'Copies sold (in milions)')"
      ]
     },
     "execution_count": 4,
     "metadata": {},
     "output_type": "execute_result"
    },
    {
     "data": {
      "image/png": "[encoded data removed]",
      "text/plain": [
       "<Figure size 1080x720 with 1 Axes>"
      ]
     },
     "metadata": {
      "needs_background": "light"
     },
     "output_type": "display_data"
    }
   ],
   "source": [
    "# creating chart \n",
    "plt.figure(figsize=(15,10))\n",
    "plt.bar(top10_developers.index, top10_developers.Global_Sales)\n",
    "plt.xticks(rotation=90)\n",
    "plt.xlabel('Publisher', fontsize=14)\n",
    "plt.ylabel('Copies sold (in milions)', fontsize = 14)"
   ]
  },
  {
   "cell_type": "markdown",
   "id": "3786bc40",
   "metadata": {},
   "source": [
    "As we can see, Nintendo is way above competition. However, in spite of recent events (when creting this notebook, recently Microsoft bought Activion). Let's see how will it change the chart."
   ]
  },
  {
   "cell_type": "code",
   "execution_count": 5,
   "id": "7e818f75",
   "metadata": {},
   "outputs": [
    {
     "data": {
      "text/html": [
       "<div>\n",
       "<style scoped>\n",
       "    .dataframe tbody tr th:only-of-type {\n",
       "        vertical-align: middle;\n",
       "    }\n",
       "\n",
       "    .dataframe tbody tr th {\n",
       "        vertical-align: top;\n",
       "    }\n",
       "\n",
       "    .dataframe thead th {\n",
       "        text-align: right;\n",
       "    }\n",
       "</style>\n",
       "<table border=\"1\" class=\"dataframe\">\n",
       "  <thead>\n",
       "    <tr style=\"text-align: right;\">\n",
       "      <th></th>\n",
       "      <th>Global_Sales</th>\n",
       "    </tr>\n",
       "    <tr>\n",
       "      <th>Publisher</th>\n",
       "      <th></th>\n",
       "    </tr>\n",
       "  </thead>\n",
       "  <tbody>\n",
       "    <tr>\n",
       "      <th>Microsoft Game Studios</th>\n",
       "      <td>245.78</td>\n",
       "    </tr>\n",
       "  </tbody>\n",
       "</table>\n",
       "</div>"
      ],
      "text/plain": [
       "                        Global_Sales\n",
       "Publisher                           \n",
       "Microsoft Game Studios        245.78"
      ]
     },
     "execution_count": 5,
     "metadata": {},
     "output_type": "execute_result"
    }
   ],
   "source": [
    "# to do so we need to find microsoft as it did not make to top 10, it is not named just Microsoft so we will use string operations to find it \n",
    "microsoft = top_developers.loc[top_developers.index.str.contains('Microsoft')]\n",
    "microsoft"
   ]
  },
  {
   "cell_type": "code",
   "execution_count": 6,
   "id": "141d027c",
   "metadata": {},
   "outputs": [
    {
     "data": {
      "text/html": [
       "<div>\n",
       "<style scoped>\n",
       "    .dataframe tbody tr th:only-of-type {\n",
       "        vertical-align: middle;\n",
       "    }\n",
       "\n",
       "    .dataframe tbody tr th {\n",
       "        vertical-align: top;\n",
       "    }\n",
       "\n",
       "    .dataframe thead th {\n",
       "        text-align: right;\n",
       "    }\n",
       "</style>\n",
       "<table border=\"1\" class=\"dataframe\">\n",
       "  <thead>\n",
       "    <tr style=\"text-align: right;\">\n",
       "      <th></th>\n",
       "      <th>Global_Sales</th>\n",
       "    </tr>\n",
       "    <tr>\n",
       "      <th>Publisher</th>\n",
       "      <th></th>\n",
       "    </tr>\n",
       "  </thead>\n",
       "  <tbody>\n",
       "    <tr>\n",
       "      <th>Nintendo</th>\n",
       "      <td>1784.47</td>\n",
       "    </tr>\n",
       "    <tr>\n",
       "      <th>Electronic Arts</th>\n",
       "      <td>1093.39</td>\n",
       "    </tr>\n",
       "    <tr>\n",
       "      <th>Activision</th>\n",
       "      <td>721.41</td>\n",
       "    </tr>\n",
       "    <tr>\n",
       "      <th>Sony Computer Entertainment</th>\n",
       "      <td>607.28</td>\n",
       "    </tr>\n",
       "    <tr>\n",
       "      <th>Ubisoft</th>\n",
       "      <td>473.54</td>\n",
       "    </tr>\n",
       "    <tr>\n",
       "      <th>Take-Two Interactive</th>\n",
       "      <td>399.31</td>\n",
       "    </tr>\n",
       "    <tr>\n",
       "      <th>THQ</th>\n",
       "      <td>340.44</td>\n",
       "    </tr>\n",
       "    <tr>\n",
       "      <th>Konami Digital Entertainment</th>\n",
       "      <td>278.56</td>\n",
       "    </tr>\n",
       "    <tr>\n",
       "      <th>Sega</th>\n",
       "      <td>270.70</td>\n",
       "    </tr>\n",
       "    <tr>\n",
       "      <th>Namco Bandai Games</th>\n",
       "      <td>253.65</td>\n",
       "    </tr>\n",
       "    <tr>\n",
       "      <th>Microsoft Game Studios</th>\n",
       "      <td>245.78</td>\n",
       "    </tr>\n",
       "  </tbody>\n",
       "</table>\n",
       "</div>"
      ],
      "text/plain": [
       "                              Global_Sales\n",
       "Publisher                                 \n",
       "Nintendo                           1784.47\n",
       "Electronic Arts                    1093.39\n",
       "Activision                          721.41\n",
       "Sony Computer Entertainment         607.28\n",
       "Ubisoft                             473.54\n",
       "Take-Two Interactive                399.31\n",
       "THQ                                 340.44\n",
       "Konami Digital Entertainment        278.56\n",
       "Sega                                270.70\n",
       "Namco Bandai Games                  253.65\n",
       "Microsoft Game Studios              245.78"
      ]
     },
     "execution_count": 6,
     "metadata": {},
     "output_type": "execute_result"
    }
   ],
   "source": [
    "top10_developers = top10_developers.append(microsoft)\n",
    "top10_developers"
   ]
  },
  {
   "cell_type": "code",
   "execution_count": 7,
   "id": "4f8f01c7",
   "metadata": {},
   "outputs": [],
   "source": [
    "top10_developers.drop_duplicates(inplace=True)"
   ]
  },
  {
   "cell_type": "code",
   "execution_count": 8,
   "id": "81efcbf6",
   "metadata": {},
   "outputs": [
    {
     "data": {
      "text/html": [
       "<div>\n",
       "<style scoped>\n",
       "    .dataframe tbody tr th:only-of-type {\n",
       "        vertical-align: middle;\n",
       "    }\n",
       "\n",
       "    .dataframe tbody tr th {\n",
       "        vertical-align: top;\n",
       "    }\n",
       "\n",
       "    .dataframe thead th {\n",
       "        text-align: right;\n",
       "    }\n",
       "</style>\n",
       "<table border=\"1\" class=\"dataframe\">\n",
       "  <thead>\n",
       "    <tr style=\"text-align: right;\">\n",
       "      <th></th>\n",
       "      <th>Global_Sales</th>\n",
       "    </tr>\n",
       "    <tr>\n",
       "      <th>Publisher</th>\n",
       "      <th></th>\n",
       "    </tr>\n",
       "  </thead>\n",
       "  <tbody>\n",
       "    <tr>\n",
       "      <th>Nintendo</th>\n",
       "      <td>1784.47</td>\n",
       "    </tr>\n",
       "    <tr>\n",
       "      <th>Electronic Arts</th>\n",
       "      <td>1093.39</td>\n",
       "    </tr>\n",
       "    <tr>\n",
       "      <th>Activision</th>\n",
       "      <td>967.19</td>\n",
       "    </tr>\n",
       "    <tr>\n",
       "      <th>Sony Computer Entertainment</th>\n",
       "      <td>607.28</td>\n",
       "    </tr>\n",
       "    <tr>\n",
       "      <th>Ubisoft</th>\n",
       "      <td>473.54</td>\n",
       "    </tr>\n",
       "    <tr>\n",
       "      <th>Take-Two Interactive</th>\n",
       "      <td>399.31</td>\n",
       "    </tr>\n",
       "    <tr>\n",
       "      <th>THQ</th>\n",
       "      <td>340.44</td>\n",
       "    </tr>\n",
       "    <tr>\n",
       "      <th>Konami Digital Entertainment</th>\n",
       "      <td>278.56</td>\n",
       "    </tr>\n",
       "    <tr>\n",
       "      <th>Sega</th>\n",
       "      <td>270.70</td>\n",
       "    </tr>\n",
       "    <tr>\n",
       "      <th>Namco Bandai Games</th>\n",
       "      <td>253.65</td>\n",
       "    </tr>\n",
       "    <tr>\n",
       "      <th>Microsoft Game Studios</th>\n",
       "      <td>245.78</td>\n",
       "    </tr>\n",
       "  </tbody>\n",
       "</table>\n",
       "</div>"
      ],
      "text/plain": [
       "                              Global_Sales\n",
       "Publisher                                 \n",
       "Nintendo                           1784.47\n",
       "Electronic Arts                    1093.39\n",
       "Activision                          967.19\n",
       "Sony Computer Entertainment         607.28\n",
       "Ubisoft                             473.54\n",
       "Take-Two Interactive                399.31\n",
       "THQ                                 340.44\n",
       "Konami Digital Entertainment        278.56\n",
       "Sega                                270.70\n",
       "Namco Bandai Games                  253.65\n",
       "Microsoft Game Studios              245.78"
      ]
     },
     "execution_count": 8,
     "metadata": {},
     "output_type": "execute_result"
    }
   ],
   "source": [
    "top10_developers.Global_Sales.loc[top10_developers.index == 'Activision'] = top10_developers.Global_Sales.loc[top10_developers.index == 'Activision'] + top10_developers.Global_Sales.loc[top10_developers.index == 'Microsoft Game Studios'].sum()\n",
    "top10_developers"
   ]
  },
  {
   "cell_type": "markdown",
   "id": "2665a84a",
   "metadata": {},
   "source": [
    "now we have Global Sales of Microsoft and Activison. Now we only have to rename Activision and remove old Microsoft Game Studios"
   ]
  },
  {
   "cell_type": "code",
   "execution_count": 9,
   "id": "125b8089",
   "metadata": {},
   "outputs": [
    {
     "data": {
      "text/html": [
       "<div>\n",
       "<style scoped>\n",
       "    .dataframe tbody tr th:only-of-type {\n",
       "        vertical-align: middle;\n",
       "    }\n",
       "\n",
       "    .dataframe tbody tr th {\n",
       "        vertical-align: top;\n",
       "    }\n",
       "\n",
       "    .dataframe thead th {\n",
       "        text-align: right;\n",
       "    }\n",
       "</style>\n",
       "<table border=\"1\" class=\"dataframe\">\n",
       "  <thead>\n",
       "    <tr style=\"text-align: right;\">\n",
       "      <th></th>\n",
       "      <th>Global_Sales</th>\n",
       "    </tr>\n",
       "    <tr>\n",
       "      <th>Publisher</th>\n",
       "      <th></th>\n",
       "    </tr>\n",
       "  </thead>\n",
       "  <tbody>\n",
       "    <tr>\n",
       "      <th>Nintendo</th>\n",
       "      <td>1784.47</td>\n",
       "    </tr>\n",
       "    <tr>\n",
       "      <th>Electronic Arts</th>\n",
       "      <td>1093.39</td>\n",
       "    </tr>\n",
       "    <tr>\n",
       "      <th>Activision</th>\n",
       "      <td>967.19</td>\n",
       "    </tr>\n",
       "    <tr>\n",
       "      <th>Sony Computer Entertainment</th>\n",
       "      <td>607.28</td>\n",
       "    </tr>\n",
       "    <tr>\n",
       "      <th>Ubisoft</th>\n",
       "      <td>473.54</td>\n",
       "    </tr>\n",
       "    <tr>\n",
       "      <th>Take-Two Interactive</th>\n",
       "      <td>399.31</td>\n",
       "    </tr>\n",
       "    <tr>\n",
       "      <th>THQ</th>\n",
       "      <td>340.44</td>\n",
       "    </tr>\n",
       "    <tr>\n",
       "      <th>Konami Digital Entertainment</th>\n",
       "      <td>278.56</td>\n",
       "    </tr>\n",
       "    <tr>\n",
       "      <th>Sega</th>\n",
       "      <td>270.70</td>\n",
       "    </tr>\n",
       "    <tr>\n",
       "      <th>Namco Bandai Games</th>\n",
       "      <td>253.65</td>\n",
       "    </tr>\n",
       "  </tbody>\n",
       "</table>\n",
       "</div>"
      ],
      "text/plain": [
       "                              Global_Sales\n",
       "Publisher                                 \n",
       "Nintendo                           1784.47\n",
       "Electronic Arts                    1093.39\n",
       "Activision                          967.19\n",
       "Sony Computer Entertainment         607.28\n",
       "Ubisoft                             473.54\n",
       "Take-Two Interactive                399.31\n",
       "THQ                                 340.44\n",
       "Konami Digital Entertainment        278.56\n",
       "Sega                                270.70\n",
       "Namco Bandai Games                  253.65"
      ]
     },
     "execution_count": 9,
     "metadata": {},
     "output_type": "execute_result"
    }
   ],
   "source": [
    "top10_developers.drop('Microsoft Game Studios', inplace=True)\n",
    "top10_developers"
   ]
  },
  {
   "cell_type": "code",
   "execution_count": 10,
   "id": "e9755e4c",
   "metadata": {},
   "outputs": [
    {
     "data": {
      "text/html": [
       "<div>\n",
       "<style scoped>\n",
       "    .dataframe tbody tr th:only-of-type {\n",
       "        vertical-align: middle;\n",
       "    }\n",
       "\n",
       "    .dataframe tbody tr th {\n",
       "        vertical-align: top;\n",
       "    }\n",
       "\n",
       "    .dataframe thead th {\n",
       "        text-align: right;\n",
       "    }\n",
       "</style>\n",
       "<table border=\"1\" class=\"dataframe\">\n",
       "  <thead>\n",
       "    <tr style=\"text-align: right;\">\n",
       "      <th></th>\n",
       "      <th>Global_Sales</th>\n",
       "    </tr>\n",
       "    <tr>\n",
       "      <th>Publisher</th>\n",
       "      <th></th>\n",
       "    </tr>\n",
       "  </thead>\n",
       "  <tbody>\n",
       "    <tr>\n",
       "      <th>Nintendo</th>\n",
       "      <td>1784.47</td>\n",
       "    </tr>\n",
       "    <tr>\n",
       "      <th>Electronic Arts</th>\n",
       "      <td>1093.39</td>\n",
       "    </tr>\n",
       "    <tr>\n",
       "      <th>Microsoft Game Studios</th>\n",
       "      <td>967.19</td>\n",
       "    </tr>\n",
       "    <tr>\n",
       "      <th>Sony Computer Entertainment</th>\n",
       "      <td>607.28</td>\n",
       "    </tr>\n",
       "    <tr>\n",
       "      <th>Ubisoft</th>\n",
       "      <td>473.54</td>\n",
       "    </tr>\n",
       "    <tr>\n",
       "      <th>Take-Two Interactive</th>\n",
       "      <td>399.31</td>\n",
       "    </tr>\n",
       "    <tr>\n",
       "      <th>THQ</th>\n",
       "      <td>340.44</td>\n",
       "    </tr>\n",
       "    <tr>\n",
       "      <th>Konami Digital Entertainment</th>\n",
       "      <td>278.56</td>\n",
       "    </tr>\n",
       "    <tr>\n",
       "      <th>Sega</th>\n",
       "      <td>270.70</td>\n",
       "    </tr>\n",
       "    <tr>\n",
       "      <th>Namco Bandai Games</th>\n",
       "      <td>253.65</td>\n",
       "    </tr>\n",
       "  </tbody>\n",
       "</table>\n",
       "</div>"
      ],
      "text/plain": [
       "                              Global_Sales\n",
       "Publisher                                 \n",
       "Nintendo                           1784.47\n",
       "Electronic Arts                    1093.39\n",
       "Microsoft Game Studios              967.19\n",
       "Sony Computer Entertainment         607.28\n",
       "Ubisoft                             473.54\n",
       "Take-Two Interactive                399.31\n",
       "THQ                                 340.44\n",
       "Konami Digital Entertainment        278.56\n",
       "Sega                                270.70\n",
       "Namco Bandai Games                  253.65"
      ]
     },
     "execution_count": 10,
     "metadata": {},
     "output_type": "execute_result"
    }
   ],
   "source": [
    "top10_developers.rename({'Activision' : \"Microsoft Game Studios\"}, inplace=True)\n",
    "top10_developers"
   ]
  },
  {
   "cell_type": "code",
   "execution_count": 11,
   "id": "a5628ffa",
   "metadata": {},
   "outputs": [
    {
     "data": {
      "text/plain": [
       "Text(0, 0.5, 'Copies sold (in milions)')"
      ]
     },
     "execution_count": 11,
     "metadata": {},
     "output_type": "execute_result"
    },
    {
     "data": {
      "image/png": "[encoded data removed]",
      "text/plain": [
       "<Figure size 1080x720 with 1 Axes>"
      ]
     },
     "metadata": {
      "needs_background": "light"
     },
     "output_type": "display_data"
    }
   ],
   "source": [
    "# creating another chart \n",
    "plt.figure(figsize=(15,10))\n",
    "plt.bar(top10_developers.index, top10_developers.Global_Sales, color= ['cyan', 'cyan', 'green', 'blue', 'cyan', 'cyan', 'cyan', 'cyan', 'cyan', 'cyan'])\n",
    "plt.xticks(rotation=90)\n",
    "plt.xlabel('Publisher', fontsize=14)\n",
    "plt.ylabel('Copies sold (in milions)', fontsize = 14)"
   ]
  },
  {
   "cell_type": "markdown",
   "id": "fa308e8b",
   "metadata": {},
   "source": [
    "Acording to this data, Microsft did beat his rival - Sony with sold coppies. Sony has something to worry about now!"
   ]
  },
  {
   "cell_type": "markdown",
   "id": "70acf24a",
   "metadata": {},
   "source": [
    "# 2. Find out what games are they mostly selling"
   ]
  },
  {
   "cell_type": "markdown",
   "id": "9c4bb5a3",
   "metadata": {},
   "source": [
    "First thing we have to merge Activions and Microsoft in main data frame"
   ]
  },
  {
   "cell_type": "code",
   "execution_count": 12,
   "id": "7a44fb23",
   "metadata": {},
   "outputs": [
    {
     "name": "stderr",
     "output_type": "stream",
     "text": [
      "C:\\anaconda3\\lib\\site-packages\\pandas\\core\\indexing.py:1637: SettingWithCopyWarning: \n",
      "A value is trying to be set on a copy of a slice from a DataFrame\n",
      "\n",
      "See the caveats in the documentation: https://pandas.pydata.org/pandas-docs/stable/user_guide/indexing.html#returning-a-view-versus-a-copy\n",
      "  self._setitem_single_block(indexer, value, name)\n"
     ]
    }
   ],
   "source": [
    "# changing Publisher from activision to microsoft\n",
    "games_copy.Publisher.loc[games_copy.Publisher == 'Activision'] = 'Microsoft Game Studios'"
   ]
  },
  {
   "cell_type": "code",
   "execution_count": 13,
   "id": "c6cd0fd8",
   "metadata": {},
   "outputs": [
    {
     "data": {
      "text/html": [
       "<div>\n",
       "<style scoped>\n",
       "    .dataframe tbody tr th:only-of-type {\n",
       "        vertical-align: middle;\n",
       "    }\n",
       "\n",
       "    .dataframe tbody tr th {\n",
       "        vertical-align: top;\n",
       "    }\n",
       "\n",
       "    .dataframe thead th {\n",
       "        text-align: right;\n",
       "    }\n",
       "</style>\n",
       "<table border=\"1\" class=\"dataframe\">\n",
       "  <thead>\n",
       "    <tr style=\"text-align: right;\">\n",
       "      <th></th>\n",
       "      <th>Rank</th>\n",
       "      <th>Platform</th>\n",
       "      <th>Year</th>\n",
       "      <th>Genre</th>\n",
       "      <th>Publisher</th>\n",
       "      <th>NA_Sales</th>\n",
       "      <th>EU_Sales</th>\n",
       "      <th>JP_Sales</th>\n",
       "      <th>Other_Sales</th>\n",
       "      <th>Global_Sales</th>\n",
       "    </tr>\n",
       "    <tr>\n",
       "      <th>Name</th>\n",
       "      <th></th>\n",
       "      <th></th>\n",
       "      <th></th>\n",
       "      <th></th>\n",
       "      <th></th>\n",
       "      <th></th>\n",
       "      <th></th>\n",
       "      <th></th>\n",
       "      <th></th>\n",
       "      <th></th>\n",
       "    </tr>\n",
       "  </thead>\n",
       "  <tbody>\n",
       "    <tr>\n",
       "      <th>Call of Duty: Modern Warfare 3</th>\n",
       "      <td>30</td>\n",
       "      <td>X360</td>\n",
       "      <td>2011</td>\n",
       "      <td>Shooter</td>\n",
       "      <td>Microsoft Game Studios</td>\n",
       "      <td>9.03</td>\n",
       "      <td>4.28</td>\n",
       "      <td>0.13</td>\n",
       "      <td>1.32</td>\n",
       "      <td>14.76</td>\n",
       "    </tr>\n",
       "    <tr>\n",
       "      <th>Call of Duty: Black Ops</th>\n",
       "      <td>32</td>\n",
       "      <td>X360</td>\n",
       "      <td>2010</td>\n",
       "      <td>Shooter</td>\n",
       "      <td>Microsoft Game Studios</td>\n",
       "      <td>9.67</td>\n",
       "      <td>3.73</td>\n",
       "      <td>0.11</td>\n",
       "      <td>1.13</td>\n",
       "      <td>14.64</td>\n",
       "    </tr>\n",
       "    <tr>\n",
       "      <th>Call of Duty: Black Ops 3</th>\n",
       "      <td>34</td>\n",
       "      <td>PS4</td>\n",
       "      <td>2015</td>\n",
       "      <td>Shooter</td>\n",
       "      <td>Microsoft Game Studios</td>\n",
       "      <td>5.77</td>\n",
       "      <td>5.81</td>\n",
       "      <td>0.35</td>\n",
       "      <td>2.31</td>\n",
       "      <td>14.24</td>\n",
       "    </tr>\n",
       "    <tr>\n",
       "      <th>Call of Duty: Black Ops II</th>\n",
       "      <td>35</td>\n",
       "      <td>PS3</td>\n",
       "      <td>2012</td>\n",
       "      <td>Shooter</td>\n",
       "      <td>Microsoft Game Studios</td>\n",
       "      <td>4.99</td>\n",
       "      <td>5.88</td>\n",
       "      <td>0.65</td>\n",
       "      <td>2.52</td>\n",
       "      <td>14.03</td>\n",
       "    </tr>\n",
       "    <tr>\n",
       "      <th>Call of Duty: Black Ops II</th>\n",
       "      <td>36</td>\n",
       "      <td>X360</td>\n",
       "      <td>2012</td>\n",
       "      <td>Shooter</td>\n",
       "      <td>Microsoft Game Studios</td>\n",
       "      <td>8.25</td>\n",
       "      <td>4.30</td>\n",
       "      <td>0.07</td>\n",
       "      <td>1.12</td>\n",
       "      <td>13.73</td>\n",
       "    </tr>\n",
       "  </tbody>\n",
       "</table>\n",
       "</div>"
      ],
      "text/plain": [
       "                                Rank Platform  Year    Genre  \\\n",
       "Name                                                           \n",
       "Call of Duty: Modern Warfare 3    30     X360  2011  Shooter   \n",
       "Call of Duty: Black Ops           32     X360  2010  Shooter   \n",
       "Call of Duty: Black Ops 3         34      PS4  2015  Shooter   \n",
       "Call of Duty: Black Ops II        35      PS3  2012  Shooter   \n",
       "Call of Duty: Black Ops II        36     X360  2012  Shooter   \n",
       "\n",
       "                                             Publisher  NA_Sales  EU_Sales  \\\n",
       "Name                                                                         \n",
       "Call of Duty: Modern Warfare 3  Microsoft Game Studios      9.03      4.28   \n",
       "Call of Duty: Black Ops         Microsoft Game Studios      9.67      3.73   \n",
       "Call of Duty: Black Ops 3       Microsoft Game Studios      5.77      5.81   \n",
       "Call of Duty: Black Ops II      Microsoft Game Studios      4.99      5.88   \n",
       "Call of Duty: Black Ops II      Microsoft Game Studios      8.25      4.30   \n",
       "\n",
       "                                JP_Sales  Other_Sales  Global_Sales  \n",
       "Name                                                                 \n",
       "Call of Duty: Modern Warfare 3      0.13         1.32         14.76  \n",
       "Call of Duty: Black Ops             0.11         1.13         14.64  \n",
       "Call of Duty: Black Ops 3           0.35         2.31         14.24  \n",
       "Call of Duty: Black Ops II          0.65         2.52         14.03  \n",
       "Call of Duty: Black Ops II          0.07         1.12         13.73  "
      ]
     },
     "execution_count": 13,
     "metadata": {},
     "output_type": "execute_result"
    }
   ],
   "source": [
    "# checking if worked \n",
    "games_copy.loc[games_copy.index.str.contains('Call of Duty')].head()"
   ]
  },
  {
   "cell_type": "code",
   "execution_count": 14,
   "id": "0cc5eafe",
   "metadata": {},
   "outputs": [],
   "source": [
    "# creating pivot table with data about genres from each publisher\n",
    "genre = games_copy.pivot_table(index='Publisher', columns='Genre', values='Global_Sales', aggfunc='sum')"
   ]
  },
  {
   "cell_type": "code",
   "execution_count": 15,
   "id": "67eff78e",
   "metadata": {},
   "outputs": [],
   "source": [
    "genre = genre.loc[top10_developers.index]"
   ]
  },
  {
   "cell_type": "code",
   "execution_count": 16,
   "id": "012b67fb",
   "metadata": {},
   "outputs": [
    {
     "data": {
      "text/plain": [
       "<AxesSubplot:xlabel='Publisher'>"
      ]
     },
     "execution_count": 16,
     "metadata": {},
     "output_type": "execute_result"
    },
    {
     "data": {
      "image/png": "[encoded data removed]",
      "text/plain": [
       "<Figure size 1440x1080 with 1 Axes>"
      ]
     },
     "metadata": {
      "needs_background": "light"
     },
     "output_type": "display_data"
    }
   ],
   "source": [
    "# creating chart\n",
    "genre.plot(kind='bar', stacked= True, figsize=(20,15), color=['red', 'orange', 'yellow', 'lime', 'green', \n",
    "                                                              'aqua', 'blue', 'navy', 'violet', 'mediumvioletred',\n",
    "                                                             'magenta', 'pink'])\n",
    "\n",
    "\n",
    "\n"
   ]
  },
  {
   "cell_type": "code",
   "execution_count": null,
   "id": "10e1de33",
   "metadata": {},
   "outputs": [],
   "source": []
  }
 ],
 "metadata": {
  "kernelspec": {
   "display_name": "Python 3",
   "language": "python",
   "name": "python3"
  },
  "language_info": {
   "codemirror_mode": {
    "name": "ipython",
    "version": 3
   },
   "file_extension": ".py",
   "mimetype": "text/x-python",
   "name": "python",
   "nbconvert_exporter": "python",
   "pygments_lexer": "ipython3",
   "version": "3.8.8"
  }
 },
 "nbformat": 4,
 "nbformat_minor": 5
}
